{
 "cells": [
  {
   "cell_type": "code",
   "execution_count": 1,
   "id": "2907a39c",
   "metadata": {},
   "outputs": [
    {
     "name": "stdout",
     "output_type": "stream",
     "text": [
      "/media/tszj/BECKY_S/Sunbird work/suntrace\n"
     ]
    }
   ],
   "source": [
    "import os\n",
    "import sys\n",
    "\n",
    "# Add the src directory to the Python path\n",
    "notebook_dir = os.getcwd()  # Current working directory of the notebook\n",
    "parent_dir = os.path.abspath(os.path.join(notebook_dir, '..'))\n",
    "if parent_dir not in sys.path:\n",
    "    sys.path.append(parent_dir)\n",
    "    print(parent_dir)\n",
    "from src.utils.factory import create_geospatial_analyzer"
   ]
  },
  {
   "cell_type": "code",
   "execution_count": 2,
   "id": "d056e0ee",
   "metadata": {},
   "outputs": [
    {
     "name": "stdout",
     "output_type": "stream",
     "text": [
      "/media/tszj/BECKY_S/Sunbird work/suntrace\n"
     ]
    }
   ],
   "source": [
    "print(parent_dir)"
   ]
  },
  {
   "cell_type": "code",
   "execution_count": 3,
   "id": "f4b3e234",
   "metadata": {},
   "outputs": [],
   "source": [
    "import geopandas as gpd\n",
    "import pandas as pd\n",
    "import shapely\n"
   ]
  },
  {
   "cell_type": "code",
   "execution_count": 4,
   "id": "fc0235e6",
   "metadata": {},
   "outputs": [],
   "source": [
    "sample_region = gpd.read_file(parent_dir + \"/data/sample_region_mudu/mudu_village.gpkg\")\n",
    "sample_region_geometry = sample_region.geometry.iloc[0] #What you pass into the GeospatialAnalyzer"
   ]
  },
  {
   "cell_type": "code",
   "execution_count": 5,
   "id": "a7bdc3f0",
   "metadata": {},
   "outputs": [
    {
     "data": {
      "text/html": [
       "<div style=\"width:100%;\"><div style=\"position:relative;width:100%;height:0;padding-bottom:60%;\"><span style=\"color:#565656\">Make this Notebook Trusted to load map: File -> Trust Notebook</span><iframe srcdoc=\"&lt;!DOCTYPE html&gt;\n",
       "&lt;html&gt;\n",
       "&lt;head&gt;\n",
       "    \n",
       "    &lt;meta http-equiv=&quot;content-type&quot; content=&quot;text/html; charset=UTF-8&quot; /&gt;\n",
       "    &lt;script src=&quot;https://cdn.jsdelivr.net/npm/leaflet@1.9.3/dist/leaflet.js&quot;&gt;&lt;/script&gt;\n",
       "    &lt;script src=&quot;https://code.jquery.com/jquery-3.7.1.min.js&quot;&gt;&lt;/script&gt;\n",
       "    &lt;script src=&quot;https://cdn.jsdelivr.net/npm/bootstrap@5.2.2/dist/js/bootstrap.bundle.min.js&quot;&gt;&lt;/script&gt;\n",
       "    &lt;script src=&quot;https://cdnjs.cloudflare.com/ajax/libs/Leaflet.awesome-markers/2.0.2/leaflet.awesome-markers.js&quot;&gt;&lt;/script&gt;\n",
       "    &lt;link rel=&quot;stylesheet&quot; href=&quot;https://cdn.jsdelivr.net/npm/leaflet@1.9.3/dist/leaflet.css&quot;/&gt;\n",
       "    &lt;link rel=&quot;stylesheet&quot; href=&quot;https://cdn.jsdelivr.net/npm/bootstrap@5.2.2/dist/css/bootstrap.min.css&quot;/&gt;\n",
       "    &lt;link rel=&quot;stylesheet&quot; href=&quot;https://netdna.bootstrapcdn.com/bootstrap/3.0.0/css/bootstrap-glyphicons.css&quot;/&gt;\n",
       "    &lt;link rel=&quot;stylesheet&quot; href=&quot;https://cdn.jsdelivr.net/npm/@fortawesome/fontawesome-free@6.2.0/css/all.min.css&quot;/&gt;\n",
       "    &lt;link rel=&quot;stylesheet&quot; href=&quot;https://cdnjs.cloudflare.com/ajax/libs/Leaflet.awesome-markers/2.0.2/leaflet.awesome-markers.css&quot;/&gt;\n",
       "    &lt;link rel=&quot;stylesheet&quot; href=&quot;https://cdn.jsdelivr.net/gh/python-visualization/folium/folium/templates/leaflet.awesome.rotate.min.css&quot;/&gt;\n",
       "    \n",
       "            &lt;meta name=&quot;viewport&quot; content=&quot;width=device-width,\n",
       "                initial-scale=1.0, maximum-scale=1.0, user-scalable=no&quot; /&gt;\n",
       "            &lt;style&gt;\n",
       "                #map_4cb9f77307c5a5cf9d8e47ec3c053378 {\n",
       "                    position: relative;\n",
       "                    width: 100.0%;\n",
       "                    height: 100.0%;\n",
       "                    left: 0.0%;\n",
       "                    top: 0.0%;\n",
       "                }\n",
       "                .leaflet-container { font-size: 1rem; }\n",
       "            &lt;/style&gt;\n",
       "\n",
       "            &lt;style&gt;html, body {\n",
       "                width: 100%;\n",
       "                height: 100%;\n",
       "                margin: 0;\n",
       "                padding: 0;\n",
       "            }\n",
       "            &lt;/style&gt;\n",
       "\n",
       "            &lt;style&gt;#map {\n",
       "                position:absolute;\n",
       "                top:0;\n",
       "                bottom:0;\n",
       "                right:0;\n",
       "                left:0;\n",
       "                }\n",
       "            &lt;/style&gt;\n",
       "\n",
       "            &lt;script&gt;\n",
       "                L_NO_TOUCH = false;\n",
       "                L_DISABLE_3D = false;\n",
       "            &lt;/script&gt;\n",
       "\n",
       "        \n",
       "&lt;/head&gt;\n",
       "&lt;body&gt;\n",
       "    \n",
       "    \n",
       "            &lt;div class=&quot;folium-map&quot; id=&quot;map_4cb9f77307c5a5cf9d8e47ec3c053378&quot; &gt;&lt;/div&gt;\n",
       "        \n",
       "&lt;/body&gt;\n",
       "&lt;script&gt;\n",
       "    \n",
       "    \n",
       "            var map_4cb9f77307c5a5cf9d8e47ec3c053378 = L.map(\n",
       "                &quot;map_4cb9f77307c5a5cf9d8e47ec3c053378&quot;,\n",
       "                {\n",
       "                    center: [3.4813802487434833, 32.50141743753237],\n",
       "                    crs: L.CRS.EPSG3857,\n",
       "                    ...{\n",
       "  &quot;zoom&quot;: 13,\n",
       "  &quot;zoomControl&quot;: true,\n",
       "  &quot;preferCanvas&quot;: false,\n",
       "}\n",
       "\n",
       "                }\n",
       "            );\n",
       "\n",
       "            \n",
       "\n",
       "        \n",
       "    \n",
       "            var tile_layer_4475ee7248b1825030d38cece00e706b = L.tileLayer(\n",
       "                &quot;https://tile.openstreetmap.org/{z}/{x}/{y}.png&quot;,\n",
       "                {\n",
       "  &quot;minZoom&quot;: 0,\n",
       "  &quot;maxZoom&quot;: 19,\n",
       "  &quot;maxNativeZoom&quot;: 19,\n",
       "  &quot;noWrap&quot;: false,\n",
       "  &quot;attribution&quot;: &quot;\\u0026copy; \\u003ca href=\\&quot;https://www.openstreetmap.org/copyright\\&quot;\\u003eOpenStreetMap\\u003c/a\\u003e contributors&quot;,\n",
       "  &quot;subdomains&quot;: &quot;abc&quot;,\n",
       "  &quot;detectRetina&quot;: false,\n",
       "  &quot;tms&quot;: false,\n",
       "  &quot;opacity&quot;: 1,\n",
       "}\n",
       "\n",
       "            );\n",
       "        \n",
       "    \n",
       "            tile_layer_4475ee7248b1825030d38cece00e706b.addTo(map_4cb9f77307c5a5cf9d8e47ec3c053378);\n",
       "        \n",
       "    \n",
       "\n",
       "        function geo_json_2f4775f84b1931dc47be6698e3f6fa16_onEachFeature(feature, layer) {\n",
       "\n",
       "            layer.on({\n",
       "            });\n",
       "        };\n",
       "        var geo_json_2f4775f84b1931dc47be6698e3f6fa16 = L.geoJson(null, {\n",
       "                onEachFeature: geo_json_2f4775f84b1931dc47be6698e3f6fa16_onEachFeature,\n",
       "            \n",
       "            ...{\n",
       "}\n",
       "        });\n",
       "\n",
       "        function geo_json_2f4775f84b1931dc47be6698e3f6fa16_add (data) {\n",
       "            geo_json_2f4775f84b1931dc47be6698e3f6fa16\n",
       "                .addData(data);\n",
       "        }\n",
       "            geo_json_2f4775f84b1931dc47be6698e3f6fa16_add({&quot;coordinates&quot;: [[[[32.48048488872554, 3.468747811173695], [32.48158730835399, 3.4787680053782806], [32.4821002301256, 3.486264423171222], [32.4823904075939, 3.4873498296199466], [32.4831705626519, 3.4874525204521136], [32.48442633978543, 3.487193445489093], [32.48542360337253, 3.4869342267525596], [32.486051541517895, 3.4867119137800335], [32.486346722877435, 3.4871945006599407], [32.48656808411788, 3.487602828066962], [32.487490923097916, 3.488382634450169], [32.48859833631059, 3.4893109807433262], [32.49055515615484, 3.4902397879367872], [32.49302906825129, 3.491057543417667], [32.4943215416863, 3.4912437913963004], [32.49491215421474, 3.49176364554485], [32.49491177710217, 3.4924687289197966], [32.49454165484743, 3.4939900236331995], [32.49361754978893, 3.495548128326089], [32.49272957352964, 3.49859063585541], [32.49243298680232, 3.50070572335012], [32.49243274685191, 3.501151039009583], [32.4926905244632, 3.5025242352215544], [32.49272701552271, 3.5033406667554354], [32.49324357178191, 3.5042315784129423], [32.493501710416645, 3.5049368019738756], [32.49335374545577, 3.5053820364492996], [32.49327946350071, 3.506161298260502], [32.492909750416416, 3.50690328973143], [32.49309388683678, 3.507868239613714], [32.49298281309148, 3.5083877138914406], [32.493093386533374, 3.5087959803749507], [32.493351145607, 3.5102062861218397], [32.49327654234424, 3.511579301361916], [32.49353444200618, 3.5127298398306928], [32.49397697918891, 3.5139175892289516], [32.49441943821145, 3.5152537765032448], [32.4948616383726, 3.51707238798006], [32.49534117012395, 3.518148827879821], [32.495820703735575, 3.519225267667847], [32.495884928522784, 3.51943864511256], [32.496324586544, 3.5192456538495946], [32.49643205024559, 3.518743058364269], [32.496735957751454, 3.5184021296157466], [32.497307796086716, 3.5181511125081797], [32.49741523047775, 3.517720320350918], [32.497594057281404, 3.5173972857089026], [32.497665794859216, 3.516894661559752], [32.49773746562843, 3.516499756274787], [32.49816640428136, 3.5162127539306494], [32.49813089982505, 3.5157818843615565], [32.49784539925985, 3.5151354590487127], [32.497774151883675, 3.514704570168767], [32.49848889618323, 3.514525432746202], [32.49866763497869, 3.5143819120701156], [32.49877528917611, 3.513520278286795], [32.498989886860656, 3.513125440771164], [32.499633141812986, 3.5129821790988514], [32.499954874533096, 3.512695118803111], [32.50080126511249, 3.512229001225523], [32.500868246470276, 3.5122599596828974], [32.501654475704825, 3.512009054213361], [32.502119049931956, 3.5119015930835276], [32.50215444121952, 3.512547883531995], [32.50247584966995, 3.512871196297074], [32.50297615829259, 3.512763753003688], [32.50336933994494, 3.512512626849901], [32.503655384510814, 3.5121537414821278], [32.50408430060276, 3.511902643077808], [32.50444174677033, 3.51165150636533], [32.504406240175776, 3.511220635704248], [32.50465658786977, 3.5107899181916222], [32.50496035733709, 3.5107003140039743], [32.5053889879679, 3.5109877756160457], [32.50567478566425, 3.5110956474941433], [32.50606792823154, 3.510916332682496], [32.50638972500335, 3.510521558868281], [32.5064613913311, 3.510126652265659], [32.50649725725789, 3.509875334007539], [32.50689034264163, 3.5098037387100787], [32.5073192380905, 3.5095885448816335], [32.507462390488, 3.509157769601357], [32.507641315111535, 3.508655199559857], [32.50817742122202, 3.50840415555829], [32.50896366565806, 3.5081173367926866], [32.51007166553937, 3.5075075545552603], [32.510643597750196, 3.507077004013392], [32.510894053489096, 3.5064308532075223], [32.51075155685401, 3.505604982169003], [32.510751948942094, 3.504850999833844], [32.510930796115126, 3.504492046121968], [32.51125264353956, 3.503989558978976], [32.51150319092115, 3.5031638939790635], [32.511735527385476, 3.503002445056139], [32.51245002828068, 3.503254146535466], [32.51262881869761, 3.503002912421294], [32.513272001066404, 3.50296734199973], [32.5135220269105, 3.5031469963548383], [32.51373644898821, 3.503075304450758], [32.514022469037656, 3.502752312214746], [32.514737303702944, 3.5023577393301264], [32.51488035971721, 3.502106486076759], [32.514880748112944, 3.501352493271126], [32.51516689656994, 3.5007781729118532], [32.51595329811655, 3.500168214673021], [32.516346379181826, 3.500096605654974], [32.516453451838196, 3.500347988896005], [32.51673928504994, 3.5003840433988813], [32.51681103874017, 3.4998096112797286], [32.51681135170066, 3.499199244779926], [32.517204947252196, 3.4981223235461325], [32.51724103006672, 3.4974401526784944], [32.51716968240447, 3.497224695330492], [32.517405725187245, 3.4968937553693418], [32.51749167383759, 3.496520401872246], [32.5177775977778, 3.496376931944854], [32.51806360069095, 3.496061118324467], [32.51840670241452, 3.495917677665076], [32.51869252912327, 3.4959465519165223], [32.51886418981298, 3.4956594060377446], [32.51926453818917, 3.4953436499302026], [32.519722005773815, 3.4951428226762338], [32.519922070146364, 3.4952003703587122], [32.520236543708336, 3.4951143600214603], [32.52057967403343, 3.494913473597972], [32.52089408912822, 3.4949423618094126], [32.52138001923698, 3.494971337776413], [32.52178022102875, 3.494942815686901], [32.521980410957575, 3.4947705734664405], [32.52226631029005, 3.4946558298580754], [32.522380714438725, 3.4945409976250477], [32.52243808596937, 3.494138892730802], [32.52246679073634, 3.4939091268840996], [32.52258122934686, 3.4937081137019987], [32.52258147629985, 3.4932198158654404], [32.52269594292081, 3.492961366807837], [32.523181988249696, 3.492760552177892], [32.523524972223065, 3.492846899801961], [32.52378230583631, 3.4927034131788752], [32.52398248592445, 3.492531170401611], [32.52435415068111, 3.4924164687695343], [32.524554258304036, 3.4923878435402895], [32.524697254919154, 3.492244298493339], [32.52484023793653, 3.492129481301166], [32.525126202974896, 3.4918998368842797], [32.52484052696113, 3.4915550113998797], [32.524640506255615, 3.491411292040528], [32.52466921577482, 3.4911527990461244], [32.52489794044563, 3.4910667433186973], [32.525212413254984, 3.4909807301443285], [32.52509827879957, 3.49057854686812], [32.52506825868284, 3.4902905932061024], [32.52504138530922, 3.4900327757995173], [32.52515590852732, 3.489659426498161], [32.524986738055325, 3.489582049914081], [32.523552458201436, 3.488926027446037], [32.52337167207994, 3.487923998488283], [32.523009411559954, 3.487286217821829], [32.522647289391415, 3.486375181637022], [32.52074428944311, 3.485281188280533], [32.519113184244475, 3.4842784162920304], [32.51793535421918, 3.4831847890578103], [32.517451232510254, 3.482407471888167], [32.51730892276702, 3.481690558154806], [32.51666745094285, 3.4805791258874788], [32.51631113032173, 3.479862101861694], [32.51641841042343, 3.479324526810858], [32.51645439011667, 3.478715231501424], [32.51627663189519, 3.4775681957564633], [32.51602748152974, 3.476528648941331], [32.51560042880375, 3.474628802102087], [32.51513790995334, 3.472334675449666], [32.514960299863056, 3.470900903066757], [32.514997211181935, 3.4684636658768326], [32.515105221605516, 3.4664924101862926], [32.514922435342456, 3.466221430120931], [32.51508217927654, 3.466166485664234], [32.51498857177943, 3.464842432612321], [32.51472411318697, 3.4636703634107326], [32.51475220540859, 3.462672526290083], [32.51420522168023, 3.4620489446422598], [32.513356693272385, 3.4603785678148977], [32.51250847107714, 3.4581144346489663], [32.513100592479766, 3.4556654952348413], [32.51166201747008, 3.4523990936780566], [32.51110849668014, 3.451582392976641], [32.510554862749025, 3.450988349841166], [32.51026298058944, 3.4502703173542293], [32.510222917796874, 3.450171763393459], [32.50933642802496, 3.4505424024158935], [32.50863441205729, 3.451247122948698], [32.50708323321726, 3.4515431940654513], [32.50593812175646, 3.4521363533337297], [32.50490393094858, 3.4524698000241503], [32.5040541354137, 3.453285768790063], [32.503130170237114, 3.454695452906811], [32.502059279113624, 3.454583560680507], [32.50054517959573, 3.4545827619728304], [32.49991745926117, 3.454433990923552], [32.49766422850404, 3.455471867750929], [32.496187037261215, 3.4555081910266896], [32.49513417002746, 3.4562312680827407], [32.494302946226995, 3.4568245780871543], [32.49361976422856, 3.4568056573893484], [32.49299198596691, 3.456768211167876], [32.49234563371769, 3.4569348569761025], [32.49190261105905, 3.456693405974649], [32.49136688892641, 3.4571569885943028], [32.490794444192716, 3.457230899247438], [32.48994472291689, 3.4578798600849394], [32.489409396599875, 3.4576012485815357], [32.48907704288736, 3.457582514109147], [32.48802417886843, 3.458287026422337], [32.48745163464967, 3.458546483266468], [32.48702695228974, 3.4585360923293043], [32.48667612834754, 3.458527507267592], [32.48628822074641, 3.4588056184343112], [32.48621401141944, 3.459454996912093], [32.48604749965497, 3.4600672147083147], [32.48567798486088, 3.460475218724468], [32.48508731501778, 3.4601038008777887], [32.48490245808927, 3.4604933505143416], [32.48479142858523, 3.4609386055302354], [32.4846251655596, 3.461086953577119], [32.483886406882185, 3.4614019812692316], [32.48355378067396, 3.461884224264051], [32.48368280200405, 3.4623110547742972], [32.48416253357158, 3.4629607358416554], [32.483903695206955, 3.4635729024156974], [32.48355248258919, 3.4642777919495313], [32.482961478177494, 3.4645186804693284], [32.481834713020184, 3.4652788085138364], [32.4813360827773, 3.465426972985357], [32.48102237379282, 3.465074258615441], [32.48072695765594, 3.4650369864486787], [32.480338792435084, 3.465778964326159], [32.48005451141783, 3.466198565903837], [32.48048488872554, 3.468747811173695]]]], &quot;type&quot;: &quot;MultiPolygon&quot;});\n",
       "        geo_json_2f4775f84b1931dc47be6698e3f6fa16.setStyle(function(feature) {return feature.properties.style;});\n",
       "\n",
       "        \n",
       "    \n",
       "            geo_json_2f4775f84b1931dc47be6698e3f6fa16.addTo(map_4cb9f77307c5a5cf9d8e47ec3c053378);\n",
       "        \n",
       "&lt;/script&gt;\n",
       "&lt;/html&gt;\" style=\"position:absolute;width:100%;height:100%;left:0;top:0;border:none !important;\" allowfullscreen webkitallowfullscreen mozallowfullscreen></iframe></div></div>"
      ],
      "text/plain": [
       "<folium.folium.Map at 0x7645fe5246a0>"
      ]
     },
     "execution_count": 5,
     "metadata": {},
     "output_type": "execute_result"
    }
   ],
   "source": [
    "import folium\n",
    "\n",
    "# Get centroid of the region to center the map\n",
    "centroid = sample_region_geometry.centroid\n",
    "m = folium.Map(location=[centroid.y, centroid.x], zoom_start=13)\n",
    "\n",
    "# Add the region geometry to the map\n",
    "folium.GeoJson(sample_region_geometry).add_to(m)\n",
    "\n",
    "m"
   ]
  },
  {
   "cell_type": "code",
   "execution_count": 6,
   "id": "894ba6c4",
   "metadata": {},
   "outputs": [
    {
     "name": "stdout",
     "output_type": "stream",
     "text": [
      "Tile stats loaded from CSV. Geometry will be added from plain tiles during merge.\n",
      "Warning: Plain tiles GeoDataFrame is missing the 'id' column. Creating from index.\n",
      "Merging tile stats and plain tiles on 'id'...\n",
      "Merge complete.\n",
      "Geospatial data loading and initial processing complete.\n",
      "Buildings CRS: EPSG:4326\n",
      "Minigrids CRS: EPSG:4326\n",
      "Plain Tiles CRS: EPSG:4326\n",
      "Joined Tiles CRS: EPSG:4326\n"
     ]
    }
   ],
   "source": [
    "analyzer = create_geospatial_analyzer()"
   ]
  },
  {
   "cell_type": "code",
   "execution_count": 7,
   "id": "b6c751cf",
   "metadata": {},
   "outputs": [
    {
     "data": {
      "text/plain": [
       "268"
      ]
     },
     "execution_count": 7,
     "metadata": {},
     "output_type": "execute_result"
    }
   ],
   "source": [
    "analyzer.count_buildings_within_region(sample_region_geometry)"
   ]
  },
  {
   "cell_type": "code",
   "execution_count": 8,
   "id": "c416f006",
   "metadata": {},
   "outputs": [
    {
     "data": {
      "text/plain": [
       "35"
      ]
     },
     "execution_count": 8,
     "metadata": {},
     "output_type": "execute_result"
    }
   ],
   "source": [
    "analyzer.count_features_within_region(sample_region_geometry, 'tiles')"
   ]
  },
  {
   "cell_type": "code",
   "execution_count": 9,
   "id": "4aebfd1d",
   "metadata": {},
   "outputs": [
    {
     "name": "stdout",
     "output_type": "stream",
     "text": [
      "Reprojecting GeoDataFrame from EPSG:4326 to EPSG:32636 for calculation.\n"
     ]
    },
    {
     "data": {
      "text/plain": [
       "np.float64(-0.5121903091796086)"
      ]
     },
     "execution_count": 9,
     "metadata": {},
     "output_type": "execute_result"
    }
   ],
   "source": [
    "analyzer.avg_ndvi(sample_region_geometry)"
   ]
  },
  {
   "cell_type": "code",
   "execution_count": 10,
   "id": "aca2b7d3",
   "metadata": {},
   "outputs": [
    {
     "data": {
      "text/html": [
       "<div>\n",
       "<style scoped>\n",
       "    .dataframe tbody tr th:only-of-type {\n",
       "        vertical-align: middle;\n",
       "    }\n",
       "\n",
       "    .dataframe tbody tr th {\n",
       "        vertical-align: top;\n",
       "    }\n",
       "\n",
       "    .dataframe thead th {\n",
       "        text-align: right;\n",
       "    }\n",
       "</style>\n",
       "<table border=\"1\" class=\"dataframe\">\n",
       "  <thead>\n",
       "    <tr style=\"text-align: right;\">\n",
       "      <th></th>\n",
       "      <th>ID</th>\n",
       "      <th>Location</th>\n",
       "      <th>Population</th>\n",
       "      <th>capacity</th>\n",
       "      <th>total_con</th>\n",
       "      <th>x_cord</th>\n",
       "      <th>y_cord</th>\n",
       "      <th>layer</th>\n",
       "      <th>path</th>\n",
       "      <th>geometry</th>\n",
       "    </tr>\n",
       "  </thead>\n",
       "  <tbody>\n",
       "    <tr>\n",
       "      <th>5</th>\n",
       "      <td>7439003</td>\n",
       "      <td>MUDU EAST</td>\n",
       "      <td>568.0</td>\n",
       "      <td>None</td>\n",
       "      <td>NaN</td>\n",
       "      <td>NaN</td>\n",
       "      <td>NaN</td>\n",
       "      <td>Candidate-MGs — candidate_minigrids_nes_reproj</td>\n",
       "      <td>/Users/ernest/Documents/Sunbird/Projects/GIZ-P...</td>\n",
       "      <td>POINT (32.50252 3.47558)</td>\n",
       "    </tr>\n",
       "  </tbody>\n",
       "</table>\n",
       "</div>"
      ],
      "text/plain": [
       "        ID   Location  Population capacity  total_con  x_cord  y_cord  \\\n",
       "5  7439003  MUDU EAST       568.0     None        NaN     NaN     NaN   \n",
       "\n",
       "                                            layer  \\\n",
       "5  Candidate-MGs — candidate_minigrids_nes_reproj   \n",
       "\n",
       "                                                path                  geometry  \n",
       "5  /Users/ernest/Documents/Sunbird/Projects/GIZ-P...  POINT (32.50252 3.47558)  "
      ]
     },
     "execution_count": 10,
     "metadata": {},
     "output_type": "execute_result"
    }
   ],
   "source": [
    "analyzer.get_minigrids_info_within_region(sample_region.geometry.iloc[0])\n"
   ]
  },
  {
   "cell_type": "code",
   "execution_count": 11,
   "id": "74596ef2",
   "metadata": {},
   "outputs": [
    {
     "data": {
      "text/plain": [
       "np.float64(-0.514233812830664)"
      ]
     },
     "execution_count": 11,
     "metadata": {},
     "output_type": "execute_result"
    }
   ],
   "source": [
    "analyzer.get_tiles_info_within_region(sample_region.geometry.iloc[0])['ndvi_mean'].mean()"
   ]
  },
  {
   "cell_type": "code",
   "execution_count": 20,
   "id": "4c0098df",
   "metadata": {},
   "outputs": [
    {
     "name": "stdout",
     "output_type": "stream",
     "text": [
      "Index(['ID', 'V_OBJECTID', 'Shape_Leng', 'Shape_Area', 'addr_dname',\n",
      "       'addr_cname', 'addr_sname', 'addr_pname', 'addr_vname', 'addr_rname',\n",
      "       'REA_PROJEC', 'NRECA_MP', 'geometry'],\n",
      "      dtype='object')\n",
      "0    5502888\n",
      "Name: ID, dtype: int64\n",
      "Error: Mini-grid data is empty or missing 'site_id' for get_site_geometry.\n"
     ]
    }
   ],
   "source": [
    "gdf = gpd.read_file(\"/media/tszj/BECKY_S/Sunbird work/suntrace/data/sample_region_mudu/5502888.shp\")  # or .geojson, .gpkg etc.\n",
    "print(gdf.columns)\n",
    "print(gdf['ID'])  # or gdf['SiteID'], gdf['SITE_ID'], etc.\n",
    "\n",
    "\n",
    "analyzer.get_site_geometry(\"5502888\")"
   ]
  },
  {
   "cell_type": "code",
   "execution_count": null,
   "id": "ab4de522",
   "metadata": {},
   "outputs": [],
   "source": []
  }
 ],
 "metadata": {
  "kernelspec": {
   "display_name": ".suntrace",
   "language": "python",
   "name": "python3"
  },
  "language_info": {
   "codemirror_mode": {
    "name": "ipython",
    "version": 3
   },
   "file_extension": ".py",
   "mimetype": "text/x-python",
   "name": "python",
   "nbconvert_exporter": "python",
   "pygments_lexer": "ipython3",
   "version": "3.9.23"
  }
 },
 "nbformat": 4,
 "nbformat_minor": 5
}
