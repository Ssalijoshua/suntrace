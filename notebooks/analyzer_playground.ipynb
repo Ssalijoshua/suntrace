{
 "cells": [
  {
   "cell_type": "code",
   "execution_count": 1,
   "id": "2907a39c",
   "metadata": {},
   "outputs": [],
   "source": [
    "import os\n",
    "import sys\n",
    "\n",
    "# Add the src directory to the Python path\n",
    "notebook_dir = os.getcwd()  # Current working directory of the notebook\n",
    "parent_dir = os.path.abspath(os.path.join(notebook_dir, '..'))\n",
    "if parent_dir not in sys.path:\n",
    "    sys.path.append(parent_dir)\n",
    "from src.utils.factory import create_geospatial_analyzer"
   ]
  },
  {
   "cell_type": "code",
   "execution_count": 2,
   "id": "f4b3e234",
   "metadata": {},
   "outputs": [],
   "source": [
    "import geopandas as gpd\n",
    "import pandas as pd\n",
    "import shapely"
   ]
  },
  {
   "cell_type": "code",
   "execution_count": 3,
   "id": "fc0235e6",
   "metadata": {},
   "outputs": [],
   "source": [
    "sample_region = gpd.read_file(\"../data/sample_region_mudu/mudu_village.gpkg\")"
   ]
  },
  {
   "cell_type": "code",
   "execution_count": 4,
   "id": "894ba6c4",
   "metadata": {},
   "outputs": [
    {
     "name": "stdout",
     "output_type": "stream",
     "text": [
      "Tile stats loaded from CSV. Geometry will be added from plain tiles during merge.\n",
      "Warning: Plain tiles GeoDataFrame is missing the 'id' column. Creating from index.\n",
      "Merging tile stats and plain tiles on 'id'...\n",
      "Merge complete.\n",
      "Geospatial data loading and initial processing complete.\n",
      "Buildings CRS: EPSG:4326\n",
      "Minigrids CRS: EPSG:4326\n",
      "Plain Tiles CRS: EPSG:4326\n",
      "Joined Tiles CRS: EPSG:4326\n"
     ]
    }
   ],
   "source": [
    "analyzer = create_geospatial_analyzer()"
   ]
  },
  {
   "cell_type": "code",
   "execution_count": 5,
   "id": "b6c751cf",
   "metadata": {},
   "outputs": [
    {
     "name": "stdout",
     "output_type": "stream",
     "text": [
      "Warning: Input geometry for calculation has no CRS. Assuming EPSG:4326.\n"
     ]
    },
    {
     "data": {
      "text/plain": [
       "268"
      ]
     },
     "execution_count": 5,
     "metadata": {},
     "output_type": "execute_result"
    }
   ],
   "source": [
    "analyzer.count_buildings_within_region(sample_region.geometry.iloc[0])"
   ]
  },
  {
   "cell_type": "code",
   "execution_count": 6,
   "id": "c416f006",
   "metadata": {},
   "outputs": [
    {
     "name": "stdout",
     "output_type": "stream",
     "text": [
      "Warning: Input geometry for calculation has no CRS. Assuming EPSG:4326.\n"
     ]
    },
    {
     "data": {
      "text/plain": [
       "35"
      ]
     },
     "execution_count": 6,
     "metadata": {},
     "output_type": "execute_result"
    }
   ],
   "source": [
    "analyzer.count_features_within_region(sample_region.geometry.iloc[0], 'tiles')"
   ]
  },
  {
   "cell_type": "code",
   "execution_count": 7,
   "id": "4aebfd1d",
   "metadata": {},
   "outputs": [
    {
     "name": "stdout",
     "output_type": "stream",
     "text": [
      "Warning: Input geometry for calculation has no CRS. Assuming EPSG:4326.\n",
      "Reprojecting GeoDataFrame from EPSG:4326 to EPSG:32636 for calculation.\n",
      "Warning: Input geometry for calculation has no CRS. Assuming EPSG:4326.\n"
     ]
    },
    {
     "data": {
      "text/plain": [
       "nan"
      ]
     },
     "execution_count": 7,
     "metadata": {},
     "output_type": "execute_result"
    }
   ],
   "source": [
    "analyzer.avg_ndvi(sample_region.geometry.iloc[0])"
   ]
  },
  {
   "cell_type": "code",
   "execution_count": 8,
   "id": "aca2b7d3",
   "metadata": {},
   "outputs": [
    {
     "name": "stdout",
     "output_type": "stream",
     "text": [
      "Warning: Input geometry for calculation has no CRS. Assuming EPSG:4326.\n"
     ]
    },
    {
     "data": {
      "text/html": [
       "<div>\n",
       "<style scoped>\n",
       "    .dataframe tbody tr th:only-of-type {\n",
       "        vertical-align: middle;\n",
       "    }\n",
       "\n",
       "    .dataframe tbody tr th {\n",
       "        vertical-align: top;\n",
       "    }\n",
       "\n",
       "    .dataframe thead th {\n",
       "        text-align: right;\n",
       "    }\n",
       "</style>\n",
       "<table border=\"1\" class=\"dataframe\">\n",
       "  <thead>\n",
       "    <tr style=\"text-align: right;\">\n",
       "      <th></th>\n",
       "      <th>ID</th>\n",
       "      <th>Location</th>\n",
       "      <th>Population</th>\n",
       "      <th>capacity</th>\n",
       "      <th>total_con</th>\n",
       "      <th>x_cord</th>\n",
       "      <th>y_cord</th>\n",
       "      <th>layer</th>\n",
       "      <th>path</th>\n",
       "      <th>geometry</th>\n",
       "    </tr>\n",
       "  </thead>\n",
       "  <tbody>\n",
       "    <tr>\n",
       "      <th>5</th>\n",
       "      <td>7439003</td>\n",
       "      <td>MUDU EAST</td>\n",
       "      <td>568.0</td>\n",
       "      <td>NaN</td>\n",
       "      <td>NaN</td>\n",
       "      <td>NaN</td>\n",
       "      <td>NaN</td>\n",
       "      <td>Candidate-MGs — candidate_minigrids_nes_reproj</td>\n",
       "      <td>/Users/ernest/Documents/Sunbird/Projects/GIZ-P...</td>\n",
       "      <td>POINT (32.50252 3.47558)</td>\n",
       "    </tr>\n",
       "  </tbody>\n",
       "</table>\n",
       "</div>"
      ],
      "text/plain": [
       "        ID   Location  Population capacity  total_con  x_cord  y_cord  \\\n",
       "5  7439003  MUDU EAST       568.0      NaN        NaN     NaN     NaN   \n",
       "\n",
       "                                            layer  \\\n",
       "5  Candidate-MGs — candidate_minigrids_nes_reproj   \n",
       "\n",
       "                                                path                  geometry  \n",
       "5  /Users/ernest/Documents/Sunbird/Projects/GIZ-P...  POINT (32.50252 3.47558)  "
      ]
     },
     "execution_count": 8,
     "metadata": {},
     "output_type": "execute_result"
    }
   ],
   "source": [
    "analyzer.get_minigrids_info_within_region(sample_region.geometry.iloc[0])\n"
   ]
  },
  {
   "cell_type": "code",
   "execution_count": 12,
   "id": "74596ef2",
   "metadata": {},
   "outputs": [
    {
     "name": "stdout",
     "output_type": "stream",
     "text": [
      "Warning: Input geometry for calculation has no CRS. Assuming EPSG:4326.\n"
     ]
    },
    {
     "data": {
      "text/plain": [
       "-0.514233812830664"
      ]
     },
     "execution_count": 12,
     "metadata": {},
     "output_type": "execute_result"
    }
   ],
   "source": [
    "analyzer.get_tiles_info_within_region(sample_region.geometry.iloc[0])['ndvi_mean'].mean()"
   ]
  },
  {
   "cell_type": "code",
   "execution_count": null,
   "id": "4c0098df",
   "metadata": {},
   "outputs": [],
   "source": []
  }
 ],
 "metadata": {
  "kernelspec": {
   "display_name": "geospatial",
   "language": "python",
   "name": "python3"
  },
  "language_info": {
   "codemirror_mode": {
    "name": "ipython",
    "version": 3
   },
   "file_extension": ".py",
   "mimetype": "text/x-python",
   "name": "python",
   "nbconvert_exporter": "python",
   "pygments_lexer": "ipython3",
   "version": "3.9.17"
  }
 },
 "nbformat": 4,
 "nbformat_minor": 5
}
